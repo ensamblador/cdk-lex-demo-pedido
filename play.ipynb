{
 "cells": [
  {
   "cell_type": "code",
   "execution_count": null,
   "metadata": {},
   "outputs": [],
   "source": [
    "from datetime import datetime, timedelta\n",
    "import pytz\n",
    "def get_localized_date():\n",
    "\n",
    "    tz = pytz.timezone('America/Santiago')\n",
    "    today = datetime.now(tz)             # Get current date and time in Santiago timezone\n",
    "    formatted_date = today.strftime('%A %d de %B de %Y') # Format date with weekday, day, month, and year\n",
    "    return formatted_date\n",
    "\n",
    "def get_today_minus_x_days(x):\n",
    "    today = datetime.now().date()  # Get today's date without the time\n",
    "    delta = timedelta(days=x)     # Create a timedelta with x days\n",
    "    result = today - delta        # Subtract the timedelta from today's date\n",
    "    return result\n",
    "\n",
    "def is_number(value):\n",
    "    try:\n",
    "        int(value)  # Try converting the value to float\n",
    "        return True   # If successful, value is a number\n",
    "    except ValueError:\n",
    "        return False  # If conversion fails, value is not a number\n",
    "\n",
    "\n",
    "def get_tomorrow_date():\n",
    "    today = datetime.now() # Get current date and time\n",
    "    tomorrow = today + timedelta(days=1) # Add 1 day to get tomorrow's date\n",
    "    return tomorrow.date() # Return only the date part, not the time\n"
   ]
  },
  {
   "cell_type": "code",
   "execution_count": null,
   "metadata": {},
   "outputs": [],
   "source": []
  }
 ],
 "metadata": {
  "kernelspec": {
   "display_name": ".venv",
   "language": "python",
   "name": "python3"
  },
  "language_info": {
   "name": "python",
   "version": "3.10.10"
  },
  "orig_nbformat": 4
 },
 "nbformat": 4,
 "nbformat_minor": 2
}
